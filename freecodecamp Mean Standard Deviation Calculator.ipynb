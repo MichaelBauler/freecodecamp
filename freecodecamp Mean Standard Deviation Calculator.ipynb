{
 "cells": [
  {
   "cell_type": "code",
   "execution_count": 2,
   "metadata": {},
   "outputs": [
    {
     "name": "stdout",
     "output_type": "stream",
     "text": [
      "{'mean': [[[3.6666666666666665, 5.0, 3.0], [3.3333333333333335, 4.0, 4.333333333333333], 3.888888888888889]], 'variance': [(array([9.55555556, 0.66666667, 8.66666667]), array([ 3.55555556, 10.66666667,  6.22222222]), 6.987654320987654)], 'standard deviation': [(array([3.09120617, 0.81649658, 2.94392029]), array([1.88561808, 3.26598632, 2.49443826]), 2.6434171674156266)], 'max': [(array([8, 6, 7]), array([6, 8, 7]), 8)], 'min': [(array([1, 4, 0]), array([2, 0, 1]), 0)], 'sum': [(array([11, 15,  9]), array([10, 12, 13]), 35)]}\n"
     ]
    }
   ],
   "source": [
    "import numpy as np\n",
    "def calculate(list):\n",
    "  if len(list)<9:\n",
    "   print(\"List must contain nine numbers.\")\n",
    "  else:\n",
    "   a=np.reshape(list,(3,3))\n",
    "  b = [(np.mean(a,axis=0)).tolist(),(np.mean(a,axis=1)).tolist(),np.mean(a)]\n",
    "  c = (np.var(a,axis=0),np.var(a,axis=1),np.var(a))\n",
    "  d = (np.std(a,axis=0),np.std(a,axis=1),np.std(a))\n",
    "  e = (np.max(a,axis=0),np.max(a,axis=1),np.max(a))\n",
    "  f = (np.min(a,axis=0),np.min(a,axis=1),np.min(a))\n",
    "  g = (np.sum(a,axis=0),np.sum(a,axis=1),np.sum(a))\n",
    "  calculations={  'mean': [b],'variance': [c],'standard deviation': [d],'max': [e],'min': [f],'sum': [g] }\n",
    "  return calculations\n",
    "print(calculate([2,6,2,8,4,0,1,5,7]))"
   ]
  },
  {
   "cell_type": "code",
   "execution_count": null,
   "metadata": {},
   "outputs": [],
   "source": []
  }
 ],
 "metadata": {
  "kernelspec": {
   "display_name": "Python 3",
   "language": "python",
   "name": "python3"
  },
  "language_info": {
   "codemirror_mode": {
    "name": "ipython",
    "version": 3
   },
   "file_extension": ".py",
   "mimetype": "text/x-python",
   "name": "python",
   "nbconvert_exporter": "python",
   "pygments_lexer": "ipython3",
   "version": "3.8.3"
  }
 },
 "nbformat": 4,
 "nbformat_minor": 4
}
